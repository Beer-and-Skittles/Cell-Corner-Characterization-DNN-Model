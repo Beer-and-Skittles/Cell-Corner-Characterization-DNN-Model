{
  "cells": [
    {
      "cell_type": "markdown",
      "metadata": {
        "id": "guE34D3Fj2R9"
      },
      "source": [
        "# Corner_Timing_Prediction"
      ]
    },
    {
      "cell_type": "markdown",
      "metadata": {
        "id": "Tm2aXcb-j9Fc"
      },
      "source": [
        "## Download data\n"
      ]
    },
    {
      "cell_type": "code",
      "execution_count": 55,
      "metadata": {
        "id": "YPmfl-awlKZA",
        "colab": {
          "base_uri": "https://localhost:8080/"
        },
        "outputId": "b1534ec8-4786-4512-94d9-a3d73cf3d1ba"
      },
      "outputs": [
        {
          "output_type": "stream",
          "name": "stdout",
          "text": [
            "/usr/local/lib/python3.8/dist-packages/gdown/cli.py:127: FutureWarning: Option `--id` was deprecated in version 4.3.1 and will be removed in 5.0. You don't need to pass it anymore to use a file ID.\n",
            "  warnings.warn(\n",
            "Downloading...\n",
            "From: https://drive.google.com/uc?id=1L8Yo7n6z1QCysCq5WczCZjmGmF9DdChO\n",
            "To: /content/cell_corner.data.csv\n",
            "100% 471k/471k [00:00<00:00, 152MB/s]\n"
          ]
        }
      ],
      "source": [
        "!gdown --id '1L8Yo7n6z1QCysCq5WczCZjmGmF9DdChO' --output cell_corner.data.csv  "
      ]
    },
    {
      "cell_type": "markdown",
      "metadata": {
        "id": "igqIMEgu64-F"
      },
      "source": [
        "## Import packages"
      ]
    },
    {
      "cell_type": "code",
      "execution_count": 56,
      "metadata": {
        "id": "xybQNYCXYu13"
      },
      "outputs": [],
      "source": [
        "# Numerical Operations\n",
        "import math\n",
        "import numpy as np\n",
        "\n",
        "# Reading/Writing Data\n",
        "import pandas as pd\n",
        "import os\n",
        "import csv\n",
        "\n",
        "# For Progress Bar\n",
        "from tqdm import tqdm\n",
        "\n",
        "# Pytorch\n",
        "import torch \n",
        "import torch.nn as nn\n",
        "from torch.utils.data import Dataset, DataLoader, random_split\n",
        "\n",
        "# For plotting learning curve\n",
        "from torch.utils.tensorboard import SummaryWriter\n",
        "\n",
        "# For plotting truth v.s. prediction graphs\n",
        "import matplotlib.pyplot as plt\n",
        "from matplotlib.pyplot import figure"
      ]
    },
    {
      "cell_type": "markdown",
      "source": [
        "## Some Utility Functions\n",
        "\n",
        "You do not need to modify this part."
      ],
      "metadata": {
        "id": "fTAVqRfc2KK3"
      }
    },
    {
      "cell_type": "code",
      "source": [
        "def same_seed(seed): \n",
        "    '''Fixes random number generator seeds for reproducibility.'''\n",
        "    torch.backends.cudnn.deterministic = True\n",
        "    torch.backends.cudnn.benchmark = False\n",
        "    np.random.seed(seed)\n",
        "    torch.manual_seed(seed)\n",
        "    if torch.cuda.is_available():\n",
        "        torch.cuda.manual_seed_all(seed)\n",
        "\n",
        "def data_split(data_set, valid_ratio, test_ratio, corners, seed):\n",
        "    '''Split provided training data into training set and validation set'''\n",
        "    shape = data_set.shape\n",
        "    data_per_corner = int(shape[0]/corners)\n",
        "    print(shape)\n",
        "    data_set = np.reshape(data_set, ( corners, data_per_corner, shape[1]))\n",
        "    print(data_set.shape)    \n",
        "\n",
        "    # shuffles all corners so that they are ordered randomly\n",
        "    np.random.shuffle(data_set)\n",
        "    valid_set = data_set[0:int(corners*valid_ratio)]\n",
        "    test_set =  data_set[int(corners*valid_ratio):int(corners*(valid_ratio+test_ratio))]\n",
        "    train_set = data_set[int(corners*(valid_ratio+test_ratio)):]\n",
        "    print(valid_set.shape, test_set.shape, train_set.shape)\n",
        "\n",
        "    valid_set = np.reshape(valid_set, (valid_set.shape[0]*valid_set.shape[1], valid_set.shape[2]))\n",
        "    test_set = np.reshape(test_set, (test_set.shape[0]*test_set.shape[1], test_set.shape[2]))\n",
        "    train_set = np.reshape(train_set, (train_set.shape[0]*train_set.shape[1], train_set.shape[2]))\n",
        "    print(valid_set.shape, test_set.shape, train_set.shape)\n",
        "\n",
        "\n",
        "    # data_set = np.reshape(data_set, (shape[0], shape[1]))\n",
        "    # valid_set_size = int(valid_ratio * len(data_set)) \n",
        "    # test_set_size = int(test_ratio * len(data_set))\n",
        "    # train_set_size = len(data_set) - valid_set_size - test_set_size\n",
        "    # train_set, valid_set, test_set = random_split(data_set, [train_set_size, valid_set_size, test_set_size], generator=torch.Generator().manual_seed(seed))\n",
        "    return np.array(train_set), np.array(valid_set), np.array(test_set)\n",
        "    \n",
        "    # valid_set, test_set, train_set = [], [], []\n",
        "    # for i, corner_set in enumerate(data_set):\n",
        "    #   if i in valid_corners:\n",
        "    #     valid_set.append(corner_set)\n",
        "    #   elif i in test_corners:\n",
        "    #     test_set.append(corner_set)\n",
        "    #   else:\n",
        "    #     train_set.append(corner_set)\n",
        "    \n",
        "    # valid_shape, test_shape, train_shape = np.asarray(valid_set).shape, np.asarray(test_set).shape, np.asarray(train_set).shape\n",
        "    # print(valid_shape, test_shape, train_shape)\n",
        "    # valid_set = np.reshape(valid_set, (valid_shape[0]*valid_shape[1], valid_shape[2]))\n",
        "    # test_set = np.reshape(test_set, (test_shape[0]*test_shape[1], test_shape[2]))\n",
        "    # train_set = np.reshape(train_set, (train_shape[0]*train_shape[1], train_shape[2]))\n",
        "\n",
        "    # print(np.asarray(valid_set).shape, np.asarray(test_set).shape, np.asarray(train_set).shape)\n",
        "\n",
        "# def data_split(data_set, valid_ratio, test_ratio, seed):\n",
        "#     '''Split provided training data into training set and validation set'''\n",
        "#     np.random.shuffle(data_set)\n",
        "#     valid_set_size = int(valid_ratio * len(data_set)) \n",
        "#     test_set_size = int(test_ratio * len(data_set))\n",
        "#     train_set_size = len(data_set) - valid_set_size - test_set_size\n",
        "#     train_set, valid_set, test_set = random_split(data_set, [train_set_size, valid_set_size, test_set_size], generator=torch.Generator().manual_seed(seed))\n",
        "#     return np.array(train_set), np.array(valid_set), np.array(test_set)"
      ],
      "metadata": {
        "id": "RbrcpfYN2I-H"
      },
      "execution_count": 57,
      "outputs": []
    },
    {
      "cell_type": "markdown",
      "metadata": {
        "id": "IqO3lTm78nNO"
      },
      "source": [
        "## Dataset"
      ]
    },
    {
      "cell_type": "code",
      "execution_count": 58,
      "metadata": {
        "id": "-mjaJM0wprMs"
      },
      "outputs": [],
      "source": [
        "class My_Dataset(Dataset):\n",
        "    '''\n",
        "    x: Features.\n",
        "    y: Targets, if none, do prediction.\n",
        "    '''\n",
        "    def __init__(self, x, y=None):\n",
        "        if y is None:\n",
        "            self.y = y\n",
        "        else:\n",
        "            self.y = torch.FloatTensor(y)\n",
        "\n",
        "        x = torch.transpose(torch.FloatTensor(x),0,1)\n",
        "        means = x.mean(1, keepdim=True)\n",
        "        stds = x.std(1, keepdim=True)\n",
        "        self.x = torch.transpose((x-means)/stds,0,1)\n",
        "\n",
        "        # self.x = torch.FloatTensor(x)\n",
        "\n",
        "    def __getitem__(self, idx):\n",
        "        if self.y is None:\n",
        "            return self.x[idx]\n",
        "        else:\n",
        "            return self.x[idx], self.y[idx]\n",
        "\n",
        "    def __len__(self):\n",
        "        return len(self.x)"
      ]
    },
    {
      "cell_type": "markdown",
      "source": [
        "## Neural Network Model\n",
        "Try out different model architectures by modifying the class below."
      ],
      "metadata": {
        "id": "m73ooU75CL_j"
      }
    },
    {
      "cell_type": "code",
      "execution_count": 59,
      "metadata": {
        "id": "Qn97_WvvrEkG"
      },
      "outputs": [],
      "source": [
        "class My_Model(nn.Module):\n",
        "    def __init__(self, input_dim):\n",
        "        super(My_Model, self).__init__()\n",
        "        self.layers = nn.Sequential(\n",
        "            nn.Linear(input_dim, 256),\n",
        "            nn.ReLU(),\n",
        "            nn.Linear(256,64),\n",
        "            nn.ReLU(),\n",
        "            nn.Linear(64,16),\n",
        "            nn.ReLU(),\n",
        "            nn.Linear(16,8),\n",
        "            nn.ReLU(),\n",
        "            nn.Linear(8,4),\n",
        "            nn.ReLU(),\n",
        "            nn.Linear(4,1)\n",
        "        )\n",
        "\n",
        "    def forward(self, x):\n",
        "        x = self.layers(x)\n",
        "        x = x.squeeze(1) # (B, 1) -> (B)\n",
        "        return x"
      ]
    },
    {
      "cell_type": "markdown",
      "metadata": {
        "id": "x5-LKF6R8xeq"
      },
      "source": [
        "## Feature Selection\n",
        "Choose features you deem useful by modifying the function below."
      ]
    },
    {
      "cell_type": "code",
      "source": [
        "def select_feat(train_data, valid_data, test_data, select_all=True):\n",
        "    '''Selects useful features to perform regression'''\n",
        "\n",
        "    y_train, y_valid, y_test = train_data[:,-1], valid_data[:,-1], test_data[:,-1]\n",
        "    raw_x_train, raw_x_valid, raw_x_test = train_data[:,:-1], valid_data[:,:-1], test_data[:,:-1]\n",
        "\n",
        "    if select_all:\n",
        "        feat_idx = list(range(raw_x_train.shape[1]))\n",
        "    else:\n",
        "        feat_idx = [0,1,2,3,4] # Select suitable feature columns.\n",
        "        \n",
        "    return raw_x_train[:,feat_idx], raw_x_valid[:,feat_idx], raw_x_test[:,feat_idx], y_train, y_valid, y_test"
      ],
      "metadata": {
        "id": "0FEnKRaIIeKp"
      },
      "execution_count": 60,
      "outputs": []
    },
    {
      "cell_type": "markdown",
      "source": [
        "## Training Loop"
      ],
      "metadata": {
        "id": "kADIPNQ2Ih5X"
      }
    },
    {
      "cell_type": "code",
      "execution_count": 61,
      "metadata": {
        "id": "k4Rq8_TztAhq"
      },
      "outputs": [],
      "source": [
        "def trainer(train_loader, valid_loader, model, config, device):\n",
        "\n",
        "    criterion = nn.MSELoss(reduction='mean') \n",
        "    optimizer = torch.optim.AdamW(model.parameters(), lr=config['learning_rate']) \n",
        "\n",
        "    writer = SummaryWriter() # Writer of tensoboard.\n",
        "\n",
        "    if not os.path.isdir('./models'):\n",
        "        os.mkdir('./models') # Create directory of saving models.\n",
        "\n",
        "    n_epochs, best_loss, step, early_stop_count = config['n_epochs'], math.inf, 0, 0\n",
        "\n",
        "    for epoch in range(n_epochs):\n",
        "        model.train() # Set your model to train mode.\n",
        "        loss_record = []\n",
        "\n",
        "        # tqdm is a package to visualize your training progress.\n",
        "        train_pbar = tqdm(train_loader, position=0, leave=True)\n",
        "\n",
        "        for x, y in train_pbar:\n",
        "            optimizer.zero_grad()               # Set gradient to zero.\n",
        "            x, y = x.to(device), y.to(device)   # Move your data to device. \n",
        "            pred = model(x)             \n",
        "            loss = criterion(pred, y)\n",
        "            loss.backward()                     # Compute gradient(backpropagation).\n",
        "            optimizer.step()                    # Update parameters.\n",
        "            step += 1\n",
        "            loss_record.append(loss.detach().item())\n",
        "            \n",
        "            # Display current epoch number and loss on tqdm progress bar.\n",
        "            train_pbar.set_description(f'Epoch [{epoch+1}/{n_epochs}]')\n",
        "            train_pbar.set_postfix({'loss': loss.detach().item()})\n",
        "\n",
        "        mean_train_loss = sum(loss_record)/len(loss_record)\n",
        "        writer.add_scalar('Loss/train', mean_train_loss, step)\n",
        "\n",
        "        model.eval() # Set your model to evaluation mode.\n",
        "        loss_record = []\n",
        "        for x, y in valid_loader:\n",
        "            x, y = x.to(device), y.to(device)\n",
        "            with torch.no_grad():\n",
        "                pred = model(x)\n",
        "                loss = criterion(pred, y)\n",
        "\n",
        "            loss_record.append(loss.item())\n",
        "            \n",
        "        mean_valid_loss = sum(loss_record)/len(loss_record)\n",
        "        print(f'Epoch [{epoch+1}/{n_epochs}]: Train loss: {(mean_train_loss*100):.4f}, Valid loss: {(mean_valid_loss*100):.4f}')\n",
        "        writer.add_scalar('Loss/valid', mean_valid_loss, step)\n",
        "\n",
        "        if mean_valid_loss < best_loss:\n",
        "            best_loss = mean_valid_loss\n",
        "            torch.save(model.state_dict(), config['save_path']) # Save your best model\n",
        "            print('Saving model with loss {:.3f}...'.format(best_loss*100))\n",
        "            early_stop_count = 0\n",
        "        else: \n",
        "            early_stop_count += 1\n",
        "\n",
        "        if early_stop_count >= config['early_stop']:\n",
        "            print('\\nModel is not improving, so we halt the training session.')\n",
        "            return"
      ]
    },
    {
      "cell_type": "markdown",
      "metadata": {
        "id": "0pgkOh2e9UjE"
      },
      "source": [
        "## Configurations\n",
        "`config` contains hyper-parameters for training and the path to save your model."
      ]
    },
    {
      "cell_type": "code",
      "execution_count": 62,
      "metadata": {
        "id": "QoWPUahCtoT6"
      },
      "outputs": [],
      "source": [
        "device = 'cuda' if torch.cuda.is_available() else 'cpu'\n",
        "config = {\n",
        "    'seed': 96524,      # Your seed number, you can pick your lucky number. :)\n",
        "    'select_all': True,   # Whether to use all features.\n",
        "    'valid_ratio': 0.2,   # validation_size = train_size * valid_ratio\n",
        "    'test_ratio': 0.05,   # test_size = train_size * test_ratio\n",
        "    'n_epochs': 3000,     # Number of epochs.            \n",
        "    'batch_size': 64, \n",
        "    \"corners\": 27,\n",
        "    'learning_rate': 0.0005,              \n",
        "    'early_stop': 400,    # If model has not improved for this many consecutive epochs, stop training.     \n",
        "    'save_path': './models/model.ckpt'  # Your model will be saved here.\n",
        "}"
      ]
    },
    {
      "cell_type": "markdown",
      "metadata": {
        "id": "lrS-aJJh9XkW"
      },
      "source": [
        "## Dataloader\n",
        "Read data from files and set up training, validation, and testing sets. You do not need to modify this part."
      ]
    },
    {
      "cell_type": "code",
      "execution_count": 63,
      "metadata": {
        "id": "2jc7ZfDot2t9",
        "colab": {
          "base_uri": "https://localhost:8080/"
        },
        "outputId": "a67d2ecd-ed02-4a7a-c19d-51ae1696835b"
      },
      "outputs": [
        {
          "output_type": "stream",
          "name": "stdout",
          "text": [
            "(10584, 12)\n",
            "(27, 392, 12)\n",
            "(5, 392, 12) (1, 392, 12) (21, 392, 12)\n",
            "(1960, 12) (392, 12) (8232, 12)\n",
            "train_data size: (8232, 12) \n",
            "valid_data size: (1960, 12) \n",
            "test_data size: (392, 12)\n",
            "number of features: 11\n"
          ]
        }
      ],
      "source": [
        "# Set seed for reproducibility\n",
        "same_seed(config['seed'])\n",
        "\n",
        "my_data = pd.read_csv('./cell_corner.data.csv').values\n",
        "train_data, valid_data, test_data = data_split(my_data, config['valid_ratio'], config['test_ratio'], config['corners'], config['seed'])\n",
        "\n",
        "# Print out the data size.\n",
        "print(f\"\"\"train_data size: {train_data.shape} \n",
        "valid_data size: {valid_data.shape} \n",
        "test_data size: {test_data.shape}\"\"\")\n",
        "\n",
        "# Select features\n",
        "x_train, x_valid, x_test, y_train, y_valid, y_test = select_feat(train_data, valid_data, test_data, config['select_all'])\n",
        "\n",
        "# Print out the number of features.\n",
        "print(f'number of features: {x_train.shape[1]}')\n",
        "\n",
        "train_dataset, valid_dataset, test_dataset= My_Dataset(x_train, y_train), My_Dataset(x_valid, y_valid), My_Dataset(x_test, y_test)\n",
        "\n",
        "# Pytorch data loader loads pytorch dataset into batches.\n",
        "train_loader = DataLoader(train_dataset, batch_size=config['batch_size'], shuffle=True, pin_memory=True)\n",
        "valid_loader = DataLoader(valid_dataset, batch_size=config['batch_size'], shuffle=True, pin_memory=True)\n",
        "test_loader = DataLoader(test_dataset, batch_size=config['batch_size'], shuffle=False, pin_memory=True)"
      ]
    },
    {
      "cell_type": "markdown",
      "metadata": {
        "id": "0OBYgjCA-YwD"
      },
      "source": [
        "## Start training!"
      ]
    },
    {
      "cell_type": "code",
      "execution_count": null,
      "metadata": {
        "colab": {
          "base_uri": "https://localhost:8080/"
        },
        "id": "YdttVRkAfu2t",
        "outputId": "d2648791-b44b-452d-a444-aeb2132cd62a"
      },
      "outputs": [
        {
          "output_type": "stream",
          "name": "stderr",
          "text": [
            "Epoch [1/3000]: 100%|██████████| 129/129 [00:01<00:00, 99.49it/s, loss=0.00359]\n"
          ]
        },
        {
          "output_type": "stream",
          "name": "stdout",
          "text": [
            "Epoch [1/3000]: Train loss: 1.0684, Valid loss: 0.2042\n",
            "Saving model with loss 0.204...\n"
          ]
        },
        {
          "output_type": "stream",
          "name": "stderr",
          "text": [
            "Epoch [2/3000]: 100%|██████████| 129/129 [00:01<00:00, 98.37it/s, loss=0.000726]\n"
          ]
        },
        {
          "output_type": "stream",
          "name": "stdout",
          "text": [
            "Epoch [2/3000]: Train loss: 0.1720, Valid loss: 0.1193\n",
            "Saving model with loss 0.119...\n"
          ]
        },
        {
          "output_type": "stream",
          "name": "stderr",
          "text": [
            "Epoch [3/3000]: 100%|██████████| 129/129 [00:01<00:00, 100.25it/s, loss=0.000442]\n"
          ]
        },
        {
          "output_type": "stream",
          "name": "stdout",
          "text": [
            "Epoch [3/3000]: Train loss: 0.0764, Valid loss: 0.1267\n"
          ]
        },
        {
          "output_type": "stream",
          "name": "stderr",
          "text": [
            "Epoch [4/3000]: 100%|██████████| 129/129 [00:01<00:00, 101.34it/s, loss=0.000172]\n"
          ]
        },
        {
          "output_type": "stream",
          "name": "stdout",
          "text": [
            "Epoch [4/3000]: Train loss: 0.0273, Valid loss: 0.1385\n"
          ]
        },
        {
          "output_type": "stream",
          "name": "stderr",
          "text": [
            "Epoch [5/3000]: 100%|██████████| 129/129 [00:01<00:00, 99.42it/s, loss=0.000134]\n"
          ]
        },
        {
          "output_type": "stream",
          "name": "stdout",
          "text": [
            "Epoch [5/3000]: Train loss: 0.0172, Valid loss: 0.1087\n",
            "Saving model with loss 0.109...\n"
          ]
        },
        {
          "output_type": "stream",
          "name": "stderr",
          "text": [
            "Epoch [6/3000]: 100%|██████████| 129/129 [00:01<00:00, 98.67it/s, loss=0.00013]\n"
          ]
        },
        {
          "output_type": "stream",
          "name": "stdout",
          "text": [
            "Epoch [6/3000]: Train loss: 0.0127, Valid loss: 0.1377\n"
          ]
        },
        {
          "output_type": "stream",
          "name": "stderr",
          "text": [
            "Epoch [7/3000]: 100%|██████████| 129/129 [00:01<00:00, 99.73it/s, loss=5.25e-5]\n"
          ]
        },
        {
          "output_type": "stream",
          "name": "stdout",
          "text": [
            "Epoch [7/3000]: Train loss: 0.0108, Valid loss: 0.0982\n",
            "Saving model with loss 0.098...\n"
          ]
        },
        {
          "output_type": "stream",
          "name": "stderr",
          "text": [
            "Epoch [8/3000]: 100%|██████████| 129/129 [00:01<00:00, 90.65it/s, loss=4.68e-5]\n"
          ]
        },
        {
          "output_type": "stream",
          "name": "stdout",
          "text": [
            "Epoch [8/3000]: Train loss: 0.0084, Valid loss: 0.1352\n"
          ]
        },
        {
          "output_type": "stream",
          "name": "stderr",
          "text": [
            "Epoch [9/3000]: 100%|██████████| 129/129 [00:01<00:00, 101.51it/s, loss=4.74e-5]\n"
          ]
        },
        {
          "output_type": "stream",
          "name": "stdout",
          "text": [
            "Epoch [9/3000]: Train loss: 0.0073, Valid loss: 0.0897\n",
            "Saving model with loss 0.090...\n"
          ]
        },
        {
          "output_type": "stream",
          "name": "stderr",
          "text": [
            "Epoch [10/3000]:  17%|█▋        | 22/129 [00:00<00:01, 93.08it/s, loss=3.99e-5]"
          ]
        }
      ],
      "source": [
        "model = My_Model(input_dim=x_train.shape[1]).to(device) # put your model and data on the same computation device.\n",
        "trainer(train_loader, valid_loader, model, config, device)"
      ]
    },
    {
      "cell_type": "markdown",
      "metadata": {
        "id": "Ik09KPqU-di-"
      },
      "source": [
        "## Plot learning curves with `tensorboard` (optional)\n",
        "\n",
        "`tensorboard` is a tool that allows you to visualize your training progress.\n",
        "\n",
        "If this block does not display your learning curve, please wait for few minutes, and re-run this block. It might take some time to load your logging information. "
      ]
    },
    {
      "cell_type": "code",
      "execution_count": null,
      "metadata": {
        "id": "loA4nKmLGQ-n"
      },
      "outputs": [],
      "source": [
        "%reload_ext tensorboard\n",
        "%tensorboard --logdir=./runs/"
      ]
    },
    {
      "cell_type": "markdown",
      "source": [
        "## Functions for Testing and Plotting"
      ],
      "metadata": {
        "id": "POVUKi_xoWr4"
      }
    },
    {
      "cell_type": "code",
      "source": [
        "def plot_pred(dv_set, model, device, xlabel, ylabel, lim=1., preds=None, targets=None):\n",
        "    ''' Plot prediction of your DNN '''\n",
        "    if preds is None or targets is None:\n",
        "        model.eval()\n",
        "        preds, targets = [], []\n",
        "        for x, y in dv_set:\n",
        "          x, y = x.to(device), y.to(device)\n",
        "          with torch.no_grad():\n",
        "              pred = model(x)\n",
        "              preds.append(pred.detach().cpu())\n",
        "              targets.append(y.detach().cpu())\n",
        "        preds = torch.cat(preds, dim=0).numpy()\n",
        "        targets = torch.cat(targets, dim=0).numpy()\n",
        "        \n",
        "        diff = 0\n",
        "        for i in range(0,len(preds)):\n",
        "          diff += abs((preds[i]-targets[i])/targets[i])\n",
        "        print('error:',diff/len(preds))\n",
        "        print('(error = mean of |(pred_val - true_val)/true_val|)')\n",
        "\n",
        "    figure(figsize=(5, 5))\n",
        "    plt.scatter(targets, preds, c='r', alpha=0.5)\n",
        "    plt.plot([-0.2, lim], [-0.2, lim], c='b')\n",
        "    plt.xlim(-0.2, lim)\n",
        "    plt.ylim(-0.2, lim)\n",
        "    plt.xlabel(xlabel)\n",
        "    plt.ylabel(ylabel)\n",
        "    plt.title(xlabel+' v.s. '+ylabel)\n",
        "    plt.show()\n",
        "    return preds\n",
        "\n",
        "def save_pred(preds, file):\n",
        "    ''' Save predictions to specified file '''\n",
        "    with open(file, 'w') as fp:\n",
        "        writer = csv.writer(fp)\n",
        "        writer.writerow(['id', 'tested_positive'])\n",
        "        for i, p in enumerate(preds):\n",
        "            writer.writerow([i, p, y_test[i]])\n"
      ],
      "metadata": {
        "id": "8b-CJSqfoaNl"
      },
      "execution_count": null,
      "outputs": []
    },
    {
      "cell_type": "markdown",
      "source": [
        "## Compare Dataset and Prediction\n",
        "The prediction of the model is stored as 'pred.csv'\n"
      ],
      "metadata": {
        "id": "D8v4HbwPBFQA"
      }
    },
    {
      "cell_type": "code",
      "source": [
        "plot_pred(valid_loader, model, device, 'valid data truth value', 'predicted value')\n",
        "print()\n",
        "preds = plot_pred(test_loader, model, device, 'test data truth value', 'predicted value')\n",
        "save_pred(preds, 'pred.csv') "
      ],
      "metadata": {
        "id": "ejYMotVlBHkG"
      },
      "execution_count": null,
      "outputs": []
    },
    {
      "cell_type": "markdown",
      "metadata": {
        "id": "yhAHGqC9-woK"
      },
      "source": [
        "## Saving Model\n",
        "The model is saved to the path specified at config['save_path']"
      ]
    },
    {
      "cell_type": "code",
      "execution_count": null,
      "metadata": {
        "id": "Q5eVdpbvAlAe"
      },
      "outputs": [],
      "source": [
        "model = My_Model(input_dim=x_train.shape[1]).to(device)\n",
        "model.load_state_dict(torch.load(config['save_path']))"
      ]
    },
    {
      "cell_type": "markdown",
      "source": [
        "## Reference\n",
        "This notebook is adopted from code written by Heng-Jui Chang @ NTUEE (https://github.com/ga642381/ML2021-Spring/blob/main/HW01/HW01.ipynb)"
      ],
      "metadata": {
        "id": "IJ_k5rY0GvSV"
      }
    }
  ],
  "metadata": {
    "accelerator": "GPU",
    "colab": {
      "provenance": []
    },
    "kernelspec": {
      "display_name": "Python 3",
      "name": "python3"
    },
    "language_info": {
      "name": "python"
    }
  },
  "nbformat": 4,
  "nbformat_minor": 0
}